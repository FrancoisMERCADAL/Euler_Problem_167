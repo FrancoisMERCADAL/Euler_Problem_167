{
 "cells": [
  {
   "cell_type": "markdown",
   "metadata": {},
   "source": [
    "### Functions"
   ]
  },
  {
   "cell_type": "code",
   "execution_count": 31,
   "metadata": {},
   "outputs": [],
   "source": [
    "def make_sum_list(list_values):\n",
    "    dict_ = {}\n",
    "    last_value = list_values[-1]\n",
    "    for i in range(len(list_values)-1):\n",
    "        for k in range(i+1, len(list_values)):\n",
    "            new_value = list_values[i] + list_values[k]\n",
    "            if new_value > last_value and new_value not in dict_:\n",
    "                dict_[new_value] = 1\n",
    "            elif new_value > last_value:\n",
    "                dict_[new_value] += 1\n",
    "    return dict_\n",
    "\n",
    "def select_value_from_dictionary(dict_):\n",
    "    for key, value in dict_.items():\n",
    "        if value == 1:\n",
    "            return key\n",
    "\n",
    "def get_next_value(list_values):\n",
    "    dict_ = make_sum_list(list_values)\n",
    "    nb = select_value_from_dictionary(dict_)\n",
    "    return nb\n",
    "\n",
    "def Ulam_sequence(a,b,k):\n",
    "    list_ = []\n",
    "    for i in range(k):\n",
    "        if i == 0:\n",
    "            list_.append(a)\n",
    "        elif i == 1:\n",
    "            list_.append(b)\n",
    "        elif i >= 2:\n",
    "            list_.append(get_next_value(list_))\n",
    "    return list_"
   ]
  },
  {
   "cell_type": "markdown",
   "metadata": {},
   "source": [
    "### Example"
   ]
  },
  {
   "cell_type": "code",
   "execution_count": 43,
   "metadata": {},
   "outputs": [
    {
     "data": {
      "text/plain": [
       "[1, 2, 3, 4, 6, 8, 11]"
      ]
     },
     "execution_count": 43,
     "metadata": {},
     "output_type": "execute_result"
    }
   ],
   "source": [
    "Ulam_sequence(1,2,7)"
   ]
  },
  {
   "cell_type": "markdown",
   "metadata": {},
   "source": [
    "### The problem"
   ]
  },
  {
   "cell_type": "code",
   "execution_count": null,
   "metadata": {},
   "outputs": [],
   "source": []
  }
 ],
 "metadata": {
  "kernelspec": {
   "display_name": "Python 3",
   "language": "python",
   "name": "python3"
  },
  "language_info": {
   "codemirror_mode": {
    "name": "ipython",
    "version": 3
   },
   "file_extension": ".py",
   "mimetype": "text/x-python",
   "name": "python",
   "nbconvert_exporter": "python",
   "pygments_lexer": "ipython3",
   "version": "3.7.3"
  }
 },
 "nbformat": 4,
 "nbformat_minor": 2
}
