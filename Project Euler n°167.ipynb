{
 "cells": [
  {
   "cell_type": "code",
   "execution_count": 1,
   "metadata": {},
   "outputs": [],
   "source": [
    "import time\n",
    "import warnings\n",
    "\n",
    "warnings.filterwarnings('ignore')"
   ]
  },
  {
   "cell_type": "markdown",
   "metadata": {},
   "source": [
    "### Functions"
   ]
  },
  {
   "cell_type": "code",
   "execution_count": 2,
   "metadata": {},
   "outputs": [],
   "source": [
    "def make_sum_list(list_values, dict_):\n",
    "    last_value = list_values[-1]\n",
    "    for i in range(len(list_values)-1):\n",
    "        new_value = list_values[i] + last_value\n",
    "        if new_value not in dict_:\n",
    "            dict_[new_value] = 1\n",
    "        else:\n",
    "            dict_[new_value] += 1\n",
    "    return dict_\n",
    "\n",
    "def select_value_from_dictionary(last_value, dict_):\n",
    "    for key, value in dict_.items():\n",
    "        if value == 1 and key > last_value:\n",
    "            return key\n",
    "\n",
    "def get_next_value(list_values, dict_):\n",
    "    dict_ = make_sum_list(list_values, dict_)\n",
    "    nb = select_value_from_dictionary(list_values[-1], dict_)\n",
    "    return nb,dict_\n",
    "\n",
    "def Ulam_sequence(a,b,k):\n",
    "    list_ = []\n",
    "    dict_ = {}\n",
    "    for i in range(k):\n",
    "        if i == 0:\n",
    "            list_.append(a)\n",
    "        elif i == 1:\n",
    "            list_.append(b)\n",
    "        elif i >= 2:\n",
    "            nb,dict_ = get_next_value(list_, dict_)\n",
    "            list_.append(nb)\n",
    "    return list_"
   ]
  },
  {
   "cell_type": "markdown",
   "metadata": {},
   "source": [
    "## Example"
   ]
  },
  {
   "cell_type": "markdown",
   "metadata": {},
   "source": [
    "Here, I reproduced the example given in the problem. I also measured the execution time (in seconds)"
   ]
  },
  {
   "cell_type": "code",
   "execution_count": 3,
   "metadata": {},
   "outputs": [
    {
     "name": "stdout",
     "output_type": "stream",
     "text": [
      "Runtime: 7.739999999856195e-05\n",
      "[1, 2, 3, 4, 6, 8, 11]\n"
     ]
    }
   ],
   "source": [
    "t0= time.clock()\n",
    "sequence = Ulam_sequence(1,2,7)\n",
    "t= time.clock() - t0\n",
    "print(\"Runtime: \" + str(t))\n",
    "print(sequence)"
   ]
  },
  {
   "cell_type": "markdown",
   "metadata": {},
   "source": [
    "### Time trouble explanation"
   ]
  },
  {
   "cell_type": "code",
   "execution_count": 4,
   "metadata": {},
   "outputs": [
    {
     "name": "stdout",
     "output_type": "stream",
     "text": [
      "Runtime: 44.1856231\n"
     ]
    }
   ],
   "source": [
    "t0= time.clock()\n",
    "for i in range(1000000000):\n",
    "    continue\n",
    "t= time.clock() - t0\n",
    "print(\"Runtime: \" + str(t))"
   ]
  },
  {
   "cell_type": "markdown",
   "metadata": {},
   "source": [
    "I wrote this part to show that it took 46.4183002 seconds to my computer to loop through 10^9 \"continue\" instructions.\n",
    "\n",
    "Since the problem asks to put k=10^11, I think the problem is impossible to solve in less than a minute.\n",
    "\n",
    "However, it won't stop me from finishing the problem"
   ]
  },
  {
   "cell_type": "markdown",
   "metadata": {},
   "source": [
    "## Solving the problem"
   ]
  },
  {
   "cell_type": "code",
   "execution_count": 5,
   "metadata": {},
   "outputs": [],
   "source": [
    "def solve_problem(k,n_min,n_max):\n",
    "    final_sequences = []\n",
    "    for i in range(n_min,n_max+1):\n",
    "        final_sequences.append(Ulam_sequence(2,2*i+1,k))\n",
    "    return [sum(x) for x in zip(*final_sequences)]"
   ]
  },
  {
   "cell_type": "code",
   "execution_count": null,
   "metadata": {},
   "outputs": [],
   "source": [
    "solve_problem(100000000000,2,10)"
   ]
  },
  {
   "cell_type": "markdown",
   "metadata": {},
   "source": [
    "Impossible to compute on my computer"
   ]
  }
 ],
 "metadata": {
  "kernelspec": {
   "display_name": "Python 3",
   "language": "python",
   "name": "python3"
  },
  "language_info": {
   "codemirror_mode": {
    "name": "ipython",
    "version": 3
   },
   "file_extension": ".py",
   "mimetype": "text/x-python",
   "name": "python",
   "nbconvert_exporter": "python",
   "pygments_lexer": "ipython3",
   "version": "3.7.3"
  }
 },
 "nbformat": 4,
 "nbformat_minor": 2
}
